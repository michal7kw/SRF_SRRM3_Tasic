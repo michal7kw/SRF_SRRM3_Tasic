{
 "cells": [
  {
   "cell_type": "code",
   "execution_count": null,
   "metadata": {
    "vscode": {
     "languageId": "plaintext"
    }
   },
   "outputs": [],
   "source": [
    "# For Tasic 2018 (SRP150473)\n",
    "wget -O tasic2018_metadata.tsv \"https://www.ebi.ac.uk/ena/portal/api/filereport?accession=SRP150473&result=read_run&fields=run_accession,fastq_ftp,fastq_md5&format=tsv&download=true\""
   ]
  },
  {
   "cell_type": "markdown",
   "metadata": {},
   "source": [
    "## Simple Download"
   ]
  },
  {
   "cell_type": "code",
   "execution_count": null,
   "metadata": {
    "vscode": {
     "languageId": "plaintext"
    }
   },
   "outputs": [],
   "source": [
    "# Extract SRR numbers and create download commands\n",
    "cat tasic2018_metadata.tsv | tail -n +2 | while IFS=$'\\t' read -r run_acc fastq_urls; do\n",
    "    IFS=';' read -ra urls <<< \"$fastq_urls\"\n",
    "    for url in \"${urls[@]}\"; do\n",
    "        echo \"wget -c 'ftp://$url'\"\n",
    "    done\n",
    "done > download_commands.sh"
   ]
  },
  {
   "cell_type": "markdown",
   "metadata": {},
   "source": [
    "## Checks for existing files before adding them to the download list"
   ]
  },
  {
   "cell_type": "code",
   "execution_count": null,
   "metadata": {
    "vscode": {
     "languageId": "plaintext"
    }
   },
   "outputs": [],
   "source": [
    "# Extract SRR numbers and create download commands, checking for existing files\n",
    "cat tasic2018_metadata.tsv | tail -n +2 | while IFS=$'\\t' read -r run_acc fastq_urls; do\n",
    "    IFS=';' read -ra urls <<< \"$fastq_urls\"\n",
    "    for url in \"${urls[@]}\"; do\n",
    "        # Extract filename from URL\n",
    "        filename=$(basename \"$url\")\n",
    "        # Check if file exists and is not empty\n",
    "        if [ ! -s \"$filename\" ]; then\n",
    "            echo \"wget -c 'ftp://$url'\"\n",
    "        else\n",
    "            echo \"# Skipping $filename - already exists\" >&2\n",
    "        fi\n",
    "    done\n",
    "done > download_commands.sh"
   ]
  },
  {
   "cell_type": "markdown",
   "metadata": {},
   "source": [
    "## Add an MD5 check if you want to verify existing files"
   ]
  },
  {
   "cell_type": "code",
   "execution_count": null,
   "metadata": {
    "vscode": {
     "languageId": "plaintext"
    }
   },
   "outputs": [],
   "source": [
    "# Extract SRR numbers and create download commands, checking for existing files\n",
    "cat tasic2018_metadata.tsv | tail -n +2 | while IFS=$'\\t' read -r run_acc fastq_urls md5s; do\n",
    "    IFS=';' read -ra urls <<< \"$fastq_urls\"\n",
    "    IFS=';' read -ra checksums <<< \"$md5s\"\n",
    "    \n",
    "    for i in \"${!urls[@]}\"; do\n",
    "        url=\"${urls[$i]}\"\n",
    "        md5=\"${checksums[$i]}\"\n",
    "        filename=$(basename \"$url\")\n",
    "        \n",
    "        # Check if file exists and has correct MD5\n",
    "        if [ -f \"$filename\" ]; then\n",
    "            existing_md5=$(md5sum \"$filename\" | cut -d' ' -f1)\n",
    "            if [ \"$existing_md5\" = \"$md5\" ]; then\n",
    "                echo \"# Skipping $filename - already exists with correct MD5\" >&2\n",
    "                continue\n",
    "            else\n",
    "                echo \"# $filename exists but MD5 mismatch - will redownload\" >&2\n",
    "            fi\n",
    "        fi\n",
    "        echo \"wget -c 'ftp://$url'\"\n",
    "    done\n",
    "done > download_commands.sh"
   ]
  },
  {
   "cell_type": "markdown",
   "metadata": {},
   "source": [
    "## Use HTTPS instead of FTP, which is generally more reliable"
   ]
  },
  {
   "cell_type": "code",
   "execution_count": null,
   "metadata": {
    "vscode": {
     "languageId": "plaintext"
    }
   },
   "outputs": [],
   "source": [
    "cat tasic2018_metadata.tsv | tail -n +2 | while IFS=$'\\t' read -r run_acc fastq_urls; do\n",
    "    IFS=';' read -ra urls <<< \"$fastq_urls\"\n",
    "    for url in \"${urls[@]}\"; do\n",
    "        # Convert FTP URL to HTTPS\n",
    "        https_url=$(echo \"$url\" | sed 's|^|https://ftp.sra.ebi.ac.uk/|')\n",
    "        echo \"wget -c '$https_url'\" \n",
    "    done\n",
    "done > download_commands.sh"
   ]
  },
  {
   "cell_type": "markdown",
   "metadata": {},
   "source": [
    "## Execute"
   ]
  },
  {
   "cell_type": "code",
   "execution_count": null,
   "metadata": {
    "vscode": {
     "languageId": "plaintext"
    }
   },
   "outputs": [],
   "source": [
    "chmod +x download_commands.sh\n",
    "\n",
    "parallel -j 32 < download_commands.sh"
   ]
  }
 ],
 "metadata": {
  "language_info": {
   "name": "python"
  }
 },
 "nbformat": 4,
 "nbformat_minor": 2
}
